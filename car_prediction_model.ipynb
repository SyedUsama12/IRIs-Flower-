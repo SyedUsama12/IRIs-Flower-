{
  "nbformat": 4,
  "nbformat_minor": 0,
  "metadata": {
    "colab": {
      "name": "car prediction model",
      "provenance": [],
      "collapsed_sections": [],
      "authorship_tag": "ABX9TyMWnb8Tx0PegT1IJmdco040",
      "include_colab_link": true
    },
    "kernelspec": {
      "name": "python3",
      "display_name": "Python 3"
    },
    "language_info": {
      "name": "python"
    }
  },
  "cells": [
    {
      "cell_type": "markdown",
      "metadata": {
        "id": "view-in-github",
        "colab_type": "text"
      },
      "source": [
        "<a href=\"https://colab.research.google.com/github/SyedUsama12/IRIs-Flower-/blob/main/car_prediction_model.ipynb\" target=\"_parent\"><img src=\"https://colab.research.google.com/assets/colab-badge.svg\" alt=\"Open In Colab\"/></a>"
      ]
    },
    {
      "cell_type": "code",
      "metadata": {
        "id": "V9w8P42u1nHn"
      },
      "source": [
        "import pandas as pd\n"
      ],
      "execution_count": 125,
      "outputs": []
    },
    {
      "cell_type": "code",
      "metadata": {
        "id": "KX_PcYOD2P1V"
      },
      "source": [
        "car=pd.read_csv(\"/content/quikr_car.csv\")"
      ],
      "execution_count": 126,
      "outputs": []
    },
    {
      "cell_type": "code",
      "metadata": {
        "colab": {
          "base_uri": "https://localhost:8080/",
          "height": 204
        },
        "id": "T6SgcwgH2UYe",
        "outputId": "e80a5743-f0c8-4e84-add6-4bc8369baec6"
      },
      "source": [
        "car.head()"
      ],
      "execution_count": 127,
      "outputs": [
        {
          "output_type": "execute_result",
          "data": {
            "text/html": [
              "<div>\n",
              "<style scoped>\n",
              "    .dataframe tbody tr th:only-of-type {\n",
              "        vertical-align: middle;\n",
              "    }\n",
              "\n",
              "    .dataframe tbody tr th {\n",
              "        vertical-align: top;\n",
              "    }\n",
              "\n",
              "    .dataframe thead th {\n",
              "        text-align: right;\n",
              "    }\n",
              "</style>\n",
              "<table border=\"1\" class=\"dataframe\">\n",
              "  <thead>\n",
              "    <tr style=\"text-align: right;\">\n",
              "      <th></th>\n",
              "      <th>name</th>\n",
              "      <th>company</th>\n",
              "      <th>year</th>\n",
              "      <th>Price</th>\n",
              "      <th>kms_driven</th>\n",
              "      <th>fuel_type</th>\n",
              "    </tr>\n",
              "  </thead>\n",
              "  <tbody>\n",
              "    <tr>\n",
              "      <th>0</th>\n",
              "      <td>Hyundai Santro Xing XO eRLX Euro III</td>\n",
              "      <td>Hyundai</td>\n",
              "      <td>2007</td>\n",
              "      <td>80,000</td>\n",
              "      <td>45,000 kms</td>\n",
              "      <td>Petrol</td>\n",
              "    </tr>\n",
              "    <tr>\n",
              "      <th>1</th>\n",
              "      <td>Mahindra Jeep CL550 MDI</td>\n",
              "      <td>Mahindra</td>\n",
              "      <td>2006</td>\n",
              "      <td>4,25,000</td>\n",
              "      <td>40 kms</td>\n",
              "      <td>Diesel</td>\n",
              "    </tr>\n",
              "    <tr>\n",
              "      <th>2</th>\n",
              "      <td>Maruti Suzuki Alto 800 Vxi</td>\n",
              "      <td>Maruti</td>\n",
              "      <td>2018</td>\n",
              "      <td>Ask For Price</td>\n",
              "      <td>22,000 kms</td>\n",
              "      <td>Petrol</td>\n",
              "    </tr>\n",
              "    <tr>\n",
              "      <th>3</th>\n",
              "      <td>Hyundai Grand i10 Magna 1.2 Kappa VTVT</td>\n",
              "      <td>Hyundai</td>\n",
              "      <td>2014</td>\n",
              "      <td>3,25,000</td>\n",
              "      <td>28,000 kms</td>\n",
              "      <td>Petrol</td>\n",
              "    </tr>\n",
              "    <tr>\n",
              "      <th>4</th>\n",
              "      <td>Ford EcoSport Titanium 1.5L TDCi</td>\n",
              "      <td>Ford</td>\n",
              "      <td>2014</td>\n",
              "      <td>5,75,000</td>\n",
              "      <td>36,000 kms</td>\n",
              "      <td>Diesel</td>\n",
              "    </tr>\n",
              "  </tbody>\n",
              "</table>\n",
              "</div>"
            ],
            "text/plain": [
              "                                     name   company  ...  kms_driven fuel_type\n",
              "0    Hyundai Santro Xing XO eRLX Euro III   Hyundai  ...  45,000 kms    Petrol\n",
              "1                 Mahindra Jeep CL550 MDI  Mahindra  ...      40 kms    Diesel\n",
              "2              Maruti Suzuki Alto 800 Vxi    Maruti  ...  22,000 kms    Petrol\n",
              "3  Hyundai Grand i10 Magna 1.2 Kappa VTVT   Hyundai  ...  28,000 kms    Petrol\n",
              "4        Ford EcoSport Titanium 1.5L TDCi      Ford  ...  36,000 kms    Diesel\n",
              "\n",
              "[5 rows x 6 columns]"
            ]
          },
          "metadata": {
            "tags": []
          },
          "execution_count": 127
        }
      ]
    },
    {
      "cell_type": "code",
      "metadata": {
        "colab": {
          "base_uri": "https://localhost:8080/"
        },
        "id": "Ef8RzOZp2cZJ",
        "outputId": "5eb44c19-e421-4a62-bb14-e2ddcd826cd5"
      },
      "source": [
        "car.info()"
      ],
      "execution_count": 128,
      "outputs": [
        {
          "output_type": "stream",
          "text": [
            "<class 'pandas.core.frame.DataFrame'>\n",
            "RangeIndex: 892 entries, 0 to 891\n",
            "Data columns (total 6 columns):\n",
            " #   Column      Non-Null Count  Dtype \n",
            "---  ------      --------------  ----- \n",
            " 0   name        892 non-null    object\n",
            " 1   company     892 non-null    object\n",
            " 2   year        892 non-null    object\n",
            " 3   Price       892 non-null    object\n",
            " 4   kms_driven  840 non-null    object\n",
            " 5   fuel_type   837 non-null    object\n",
            "dtypes: object(6)\n",
            "memory usage: 41.9+ KB\n"
          ],
          "name": "stdout"
        }
      ]
    },
    {
      "cell_type": "code",
      "metadata": {
        "colab": {
          "base_uri": "https://localhost:8080/"
        },
        "id": "qYYUCyKG2d8S",
        "outputId": "fd4cc155-6238-4bff-93dd-1c104fdcef0e"
      },
      "source": [
        "car.shape             "
      ],
      "execution_count": 129,
      "outputs": [
        {
          "output_type": "execute_result",
          "data": {
            "text/plain": [
              "(892, 6)"
            ]
          },
          "metadata": {
            "tags": []
          },
          "execution_count": 129
        }
      ]
    },
    {
      "cell_type": "code",
      "metadata": {
        "colab": {
          "base_uri": "https://localhost:8080/"
        },
        "id": "o12s1I-g2nSw",
        "outputId": "52d08421-5ae9-4ee7-f3a3-d76812493bb5"
      },
      "source": [
        "# lets check the quality of data \n",
        "car[\"year\"].unique()\n",
        "# so many irrelevent values. we will remove them and it is object type                                                                 "
      ],
      "execution_count": 130,
      "outputs": [
        {
          "output_type": "execute_result",
          "data": {
            "text/plain": [
              "array(['2007', '2006', '2018', '2014', '2015', '2012', '2013', '2016',\n",
              "       '2010', '2017', '2008', '2011', '2019', '2009', '2005', '2000',\n",
              "       '...', '150k', 'TOUR', '2003', 'r 15', '2004', 'Zest', '/-Rs',\n",
              "       'sale', '1995', 'ara)', '2002', 'SELL', '2001', 'tion', 'odel',\n",
              "       '2 bs', 'arry', 'Eon', 'o...', 'ture', 'emi', 'car', 'able', 'no.',\n",
              "       'd...', 'SALE', 'digo', 'sell', 'd Ex', 'n...', 'e...', 'D...',\n",
              "       ', Ac', 'go .', 'k...', 'o c4', 'zire', 'cent', 'Sumo', 'cab',\n",
              "       't xe', 'EV2', 'r...', 'zest'], dtype=object)"
            ]
          },
          "metadata": {
            "tags": []
          },
          "execution_count": 130
        }
      ]
    },
    {
      "cell_type": "code",
      "metadata": {
        "colab": {
          "base_uri": "https://localhost:8080/"
        },
        "id": "Scsc0lMG3aRy",
        "outputId": "602c2047-eb32-4f3a-a294-444bb9b561ea"
      },
      "source": [
        "car[\"kms_driven\"].unique()\n",
        "# it has kms and it is object type plus qoma plus it has nan value as well"
      ],
      "execution_count": 131,
      "outputs": [
        {
          "output_type": "execute_result",
          "data": {
            "text/plain": [
              "array(['45,000 kms', '40 kms', '22,000 kms', '28,000 kms', '36,000 kms',\n",
              "       '59,000 kms', '41,000 kms', '25,000 kms', '24,530 kms',\n",
              "       '60,000 kms', '30,000 kms', '32,000 kms', '48,660 kms',\n",
              "       '4,000 kms', '16,934 kms', '43,000 kms', '35,550 kms',\n",
              "       '39,522 kms', '39,000 kms', '55,000 kms', '72,000 kms',\n",
              "       '15,975 kms', '70,000 kms', '23,452 kms', '35,522 kms',\n",
              "       '48,508 kms', '15,487 kms', '82,000 kms', '20,000 kms',\n",
              "       '68,000 kms', '38,000 kms', '27,000 kms', '33,000 kms',\n",
              "       '46,000 kms', '16,000 kms', '47,000 kms', '35,000 kms',\n",
              "       '30,874 kms', '15,000 kms', '29,685 kms', '1,30,000 kms',\n",
              "       '19,000 kms', nan, '54,000 kms', '13,000 kms', '38,200 kms',\n",
              "       '50,000 kms', '13,500 kms', '3,600 kms', '45,863 kms',\n",
              "       '60,500 kms', '12,500 kms', '18,000 kms', '13,349 kms',\n",
              "       '29,000 kms', '44,000 kms', '42,000 kms', '14,000 kms',\n",
              "       '49,000 kms', '36,200 kms', '51,000 kms', '1,04,000 kms',\n",
              "       '33,333 kms', '33,600 kms', '5,600 kms', '7,500 kms', '26,000 kms',\n",
              "       '24,330 kms', '65,480 kms', '28,028 kms', '2,00,000 kms',\n",
              "       '99,000 kms', '2,800 kms', '21,000 kms', '11,000 kms',\n",
              "       '66,000 kms', '3,000 kms', '7,000 kms', '38,500 kms', '37,200 kms',\n",
              "       '43,200 kms', '24,800 kms', '45,872 kms', '40,000 kms',\n",
              "       '11,400 kms', '97,200 kms', '52,000 kms', '31,000 kms',\n",
              "       '1,75,430 kms', '37,000 kms', '65,000 kms', '3,350 kms',\n",
              "       '75,000 kms', '62,000 kms', '73,000 kms', '2,200 kms',\n",
              "       '54,870 kms', '34,580 kms', '97,000 kms', '60 kms', '80,200 kms',\n",
              "       '3,200 kms', '0,000 kms', '5,000 kms', '588 kms', '71,200 kms',\n",
              "       '1,75,400 kms', '9,300 kms', '56,758 kms', '10,000 kms',\n",
              "       '56,450 kms', '56,000 kms', '32,700 kms', '9,000 kms', '73 kms',\n",
              "       '1,60,000 kms', '84,000 kms', '58,559 kms', '57,000 kms',\n",
              "       '1,70,000 kms', '80,000 kms', '6,821 kms', '23,000 kms',\n",
              "       '34,000 kms', '1,800 kms', '4,00,000 kms', '48,000 kms',\n",
              "       '90,000 kms', '12,000 kms', '69,900 kms', '1,66,000 kms',\n",
              "       '122 kms', '0 kms', '24,000 kms', '36,469 kms', '7,800 kms',\n",
              "       '24,695 kms', '15,141 kms', '59,910 kms', '1,00,000 kms',\n",
              "       '4,500 kms', '1,29,000 kms', '300 kms', '1,31,000 kms',\n",
              "       '1,11,111 kms', '59,466 kms', '25,500 kms', '44,005 kms',\n",
              "       '2,110 kms', '43,222 kms', '1,00,200 kms', '65 kms',\n",
              "       '1,40,000 kms', '1,03,553 kms', '58,000 kms', '1,20,000 kms',\n",
              "       '49,800 kms', '100 kms', '81,876 kms', '6,020 kms', '55,700 kms',\n",
              "       '18,500 kms', '1,80,000 kms', '53,000 kms', '35,500 kms',\n",
              "       '22,134 kms', '1,000 kms', '8,500 kms', '87,000 kms', '6,000 kms',\n",
              "       '15,574 kms', '8,000 kms', '55,800 kms', '56,400 kms',\n",
              "       '72,160 kms', '11,500 kms', '1,33,000 kms', '2,000 kms',\n",
              "       '88,000 kms', '65,422 kms', '1,17,000 kms', '1,50,000 kms',\n",
              "       '10,750 kms', '6,800 kms', '5 kms', '9,800 kms', '57,923 kms',\n",
              "       '30,201 kms', '6,200 kms', '37,518 kms', '24,652 kms', '383 kms',\n",
              "       '95,000 kms', '3,528 kms', '52,500 kms', '47,900 kms',\n",
              "       '52,800 kms', '1,95,000 kms', '48,008 kms', '48,247 kms',\n",
              "       '9,400 kms', '64,000 kms', '2,137 kms', '10,544 kms', '49,500 kms',\n",
              "       '1,47,000 kms', '90,001 kms', '48,006 kms', '74,000 kms',\n",
              "       '85,000 kms', '29,500 kms', '39,700 kms', '67,000 kms',\n",
              "       '19,336 kms', '60,105 kms', '45,933 kms', '1,02,563 kms',\n",
              "       '28,600 kms', '41,800 kms', '1,16,000 kms', '42,590 kms',\n",
              "       '7,400 kms', '54,500 kms', '76,000 kms', '00 kms', '11,523 kms',\n",
              "       '38,600 kms', '95,500 kms', '37,458 kms', '85,960 kms',\n",
              "       '12,516 kms', '30,600 kms', '2,550 kms', '62,500 kms',\n",
              "       '69,000 kms', '28,400 kms', '68,485 kms', '3,500 kms',\n",
              "       '85,455 kms', '63,000 kms', '1,600 kms', '77,000 kms',\n",
              "       '26,500 kms', '2,875 kms', '13,900 kms', '1,500 kms', '2,450 kms',\n",
              "       '1,625 kms', '33,400 kms', '60,123 kms', '38,900 kms',\n",
              "       '1,37,495 kms', '91,200 kms', '1,46,000 kms', '1,00,800 kms',\n",
              "       '2,100 kms', '2,500 kms', '1,32,000 kms', 'Petrol'], dtype=object)"
            ]
          },
          "metadata": {
            "tags": []
          },
          "execution_count": 131
        }
      ]
    },
    {
      "cell_type": "code",
      "metadata": {
        "colab": {
          "base_uri": "https://localhost:8080/"
        },
        "id": "FQdABpzj3ufB",
        "outputId": "e6d58cd7-2001-4744-8ddc-efe7144fbace"
      },
      "source": [
        "car[\"Price\"].unique()\n",
        "# it is also object plus ask for price is irrelevant"
      ],
      "execution_count": 132,
      "outputs": [
        {
          "output_type": "execute_result",
          "data": {
            "text/plain": [
              "array(['80,000', '4,25,000', 'Ask For Price', '3,25,000', '5,75,000',\n",
              "       '1,75,000', '1,90,000', '8,30,000', '2,50,000', '1,82,000',\n",
              "       '3,15,000', '4,15,000', '3,20,000', '10,00,000', '5,00,000',\n",
              "       '3,50,000', '1,60,000', '3,10,000', '75,000', '1,00,000',\n",
              "       '2,90,000', '95,000', '1,80,000', '3,85,000', '1,05,000',\n",
              "       '6,50,000', '6,89,999', '4,48,000', '5,49,000', '5,01,000',\n",
              "       '4,89,999', '2,80,000', '3,49,999', '2,84,999', '3,45,000',\n",
              "       '4,99,999', '2,35,000', '2,49,999', '14,75,000', '3,95,000',\n",
              "       '2,20,000', '1,70,000', '85,000', '2,00,000', '5,70,000',\n",
              "       '1,10,000', '4,48,999', '18,91,111', '1,59,500', '3,44,999',\n",
              "       '4,49,999', '8,65,000', '6,99,000', '3,75,000', '2,24,999',\n",
              "       '12,00,000', '1,95,000', '3,51,000', '2,40,000', '90,000',\n",
              "       '1,55,000', '6,00,000', '1,89,500', '2,10,000', '3,90,000',\n",
              "       '1,35,000', '16,00,000', '7,01,000', '2,65,000', '5,25,000',\n",
              "       '3,72,000', '6,35,000', '5,50,000', '4,85,000', '3,29,500',\n",
              "       '2,51,111', '5,69,999', '69,999', '2,99,999', '3,99,999',\n",
              "       '4,50,000', '2,70,000', '1,58,400', '1,79,000', '1,25,000',\n",
              "       '2,99,000', '1,50,000', '2,75,000', '2,85,000', '3,40,000',\n",
              "       '70,000', '2,89,999', '8,49,999', '7,49,999', '2,74,999',\n",
              "       '9,84,999', '5,99,999', '2,44,999', '4,74,999', '2,45,000',\n",
              "       '1,69,500', '3,70,000', '1,68,000', '1,45,000', '98,500',\n",
              "       '2,09,000', '1,85,000', '9,00,000', '6,99,999', '1,99,999',\n",
              "       '5,44,999', '1,99,000', '5,40,000', '49,000', '7,00,000', '55,000',\n",
              "       '8,95,000', '3,55,000', '5,65,000', '3,65,000', '40,000',\n",
              "       '4,00,000', '3,30,000', '5,80,000', '3,79,000', '2,19,000',\n",
              "       '5,19,000', '7,30,000', '20,00,000', '21,00,000', '14,00,000',\n",
              "       '3,11,000', '8,55,000', '5,35,000', '1,78,000', '3,00,000',\n",
              "       '2,55,000', '5,49,999', '3,80,000', '57,000', '4,10,000',\n",
              "       '2,25,000', '1,20,000', '59,000', '5,99,000', '6,75,000', '72,500',\n",
              "       '6,10,000', '2,30,000', '5,20,000', '5,24,999', '4,24,999',\n",
              "       '6,44,999', '5,84,999', '7,99,999', '4,44,999', '6,49,999',\n",
              "       '9,44,999', '5,74,999', '3,74,999', '1,30,000', '4,01,000',\n",
              "       '13,50,000', '1,74,999', '2,39,999', '99,999', '3,24,999',\n",
              "       '10,74,999', '11,30,000', '1,49,000', '7,70,000', '30,000',\n",
              "       '3,35,000', '3,99,000', '65,000', '1,69,999', '1,65,000',\n",
              "       '5,60,000', '9,50,000', '7,15,000', '45,000', '9,40,000',\n",
              "       '1,55,555', '15,00,000', '4,95,000', '8,00,000', '12,99,000',\n",
              "       '5,30,000', '14,99,000', '32,000', '4,05,000', '7,60,000',\n",
              "       '7,50,000', '4,19,000', '1,40,000', '15,40,000', '1,23,000',\n",
              "       '4,98,000', '4,80,000', '4,88,000', '15,25,000', '5,48,900',\n",
              "       '7,25,000', '99,000', '52,000', '28,00,000', '4,99,000',\n",
              "       '3,81,000', '2,78,000', '6,90,000', '2,60,000', '90,001',\n",
              "       '1,15,000', '15,99,000', '1,59,000', '51,999', '2,15,000',\n",
              "       '35,000', '11,50,000', '2,69,000', '60,000', '4,30,000',\n",
              "       '85,00,003', '4,01,919', '4,90,000', '4,24,000', '2,05,000',\n",
              "       '5,49,900', '3,71,500', '4,35,000', '1,89,700', '3,89,700',\n",
              "       '3,60,000', '2,95,000', '1,14,990', '10,65,000', '4,70,000',\n",
              "       '48,000', '1,88,000', '4,65,000', '1,79,999', '21,90,000',\n",
              "       '23,90,000', '10,75,000', '4,75,000', '10,25,000', '6,15,000',\n",
              "       '19,00,000', '14,90,000', '15,10,000', '18,50,000', '7,90,000',\n",
              "       '17,25,000', '12,25,000', '68,000', '9,70,000', '31,00,000',\n",
              "       '8,99,000', '88,000', '53,000', '5,68,500', '71,000', '5,90,000',\n",
              "       '7,95,000', '42,000', '1,89,000', '1,62,000', '35,999',\n",
              "       '29,00,000', '39,999', '50,500', '5,10,000', '8,60,000',\n",
              "       '5,00,001'], dtype=object)"
            ]
          },
          "metadata": {
            "tags": []
          },
          "execution_count": 132
        }
      ]
    },
    {
      "cell_type": "code",
      "metadata": {
        "colab": {
          "base_uri": "https://localhost:8080/"
        },
        "id": "K6jyB4iP34wW",
        "outputId": "4af07c0c-3f71-488c-9b52-fb377dfa2d67"
      },
      "source": [
        "car[\"fuel_type\"].unique()\n",
        "#it has nan value\n",
        "#i will keep first three words of name"
      ],
      "execution_count": 133,
      "outputs": [
        {
          "output_type": "execute_result",
          "data": {
            "text/plain": [
              "array(['Petrol', 'Diesel', nan, 'LPG'], dtype=object)"
            ]
          },
          "metadata": {
            "tags": []
          },
          "execution_count": 133
        }
      ]
    },
    {
      "cell_type": "code",
      "metadata": {
        "id": "4hdhG3_w4bz0"
      },
      "source": [
        "#cleaning data"
      ],
      "execution_count": 134,
      "outputs": []
    },
    {
      "cell_type": "code",
      "metadata": {
        "id": "Y6kEt19s46jB"
      },
      "source": [
        "backupcar=car.copy()"
      ],
      "execution_count": 108,
      "outputs": []
    },
    {
      "cell_type": "code",
      "metadata": {
        "id": "M3yFcbfR5Bvi"
      },
      "source": [
        "car=car[car[\"year\"].str.isnumeric()]"
      ],
      "execution_count": 135,
      "outputs": []
    },
    {
      "cell_type": "code",
      "metadata": {
        "id": "6HEzalN85bVK"
      },
      "source": [
        "car[\"year\"]=car[\"year\"].astype(int)"
      ],
      "execution_count": 136,
      "outputs": []
    },
    {
      "cell_type": "code",
      "metadata": {
        "id": "EoHCfMOU500V"
      },
      "source": [
        "car=car[car[\"Price\"]!=\"Ask For Price\"]"
      ],
      "execution_count": 137,
      "outputs": []
    },
    {
      "cell_type": "code",
      "metadata": {
        "id": "xcQjzqhJ60ps"
      },
      "source": [
        "car[\"Price\"]=car[\"Price\"].str.replace(\",\",\"\").astype(int)"
      ],
      "execution_count": 138,
      "outputs": []
    },
    {
      "cell_type": "code",
      "metadata": {
        "id": "CAVnpFHh72On"
      },
      "source": [
        "car[\"kms_driven\"]=car[\"kms_driven\"].str.split(\" \").str.get(0).str.replace(\",\",\"\")  \n",
        "car=car[car[\"kms_driven\"].str.isnumeric()]\n",
        "car[\"kms_driven\"]=car[\"kms_driven\"].astype(int)\n",
        "\n"
      ],
      "execution_count": 139,
      "outputs": []
    },
    {
      "cell_type": "code",
      "metadata": {
        "id": "Hl7PdWAv8E5u"
      },
      "source": [
        "car=car[~car[\"fuel_type\"].isna()]"
      ],
      "execution_count": 140,
      "outputs": []
    },
    {
      "cell_type": "code",
      "metadata": {
        "id": "ZWfjfA89-WhE"
      },
      "source": [
        "car[\"name\"]=car[\"name\"].str.split(\" \").str.slice(0,3).str.join(\" \")\n"
      ],
      "execution_count": 141,
      "outputs": []
    },
    {
      "cell_type": "code",
      "metadata": {
        "colab": {
          "base_uri": "https://localhost:8080/",
          "height": 419
        },
        "id": "tv0-RM1s_cRQ",
        "outputId": "9791132b-8fd7-458a-adf1-35c13a72b789"
      },
      "source": [
        "car"
      ],
      "execution_count": 142,
      "outputs": [
        {
          "output_type": "execute_result",
          "data": {
            "text/html": [
              "<div>\n",
              "<style scoped>\n",
              "    .dataframe tbody tr th:only-of-type {\n",
              "        vertical-align: middle;\n",
              "    }\n",
              "\n",
              "    .dataframe tbody tr th {\n",
              "        vertical-align: top;\n",
              "    }\n",
              "\n",
              "    .dataframe thead th {\n",
              "        text-align: right;\n",
              "    }\n",
              "</style>\n",
              "<table border=\"1\" class=\"dataframe\">\n",
              "  <thead>\n",
              "    <tr style=\"text-align: right;\">\n",
              "      <th></th>\n",
              "      <th>name</th>\n",
              "      <th>company</th>\n",
              "      <th>year</th>\n",
              "      <th>Price</th>\n",
              "      <th>kms_driven</th>\n",
              "      <th>fuel_type</th>\n",
              "    </tr>\n",
              "  </thead>\n",
              "  <tbody>\n",
              "    <tr>\n",
              "      <th>0</th>\n",
              "      <td>Hyundai Santro Xing</td>\n",
              "      <td>Hyundai</td>\n",
              "      <td>2007</td>\n",
              "      <td>80000</td>\n",
              "      <td>45000</td>\n",
              "      <td>Petrol</td>\n",
              "    </tr>\n",
              "    <tr>\n",
              "      <th>1</th>\n",
              "      <td>Mahindra Jeep CL550</td>\n",
              "      <td>Mahindra</td>\n",
              "      <td>2006</td>\n",
              "      <td>425000</td>\n",
              "      <td>40</td>\n",
              "      <td>Diesel</td>\n",
              "    </tr>\n",
              "    <tr>\n",
              "      <th>3</th>\n",
              "      <td>Hyundai Grand i10</td>\n",
              "      <td>Hyundai</td>\n",
              "      <td>2014</td>\n",
              "      <td>325000</td>\n",
              "      <td>28000</td>\n",
              "      <td>Petrol</td>\n",
              "    </tr>\n",
              "    <tr>\n",
              "      <th>4</th>\n",
              "      <td>Ford EcoSport Titanium</td>\n",
              "      <td>Ford</td>\n",
              "      <td>2014</td>\n",
              "      <td>575000</td>\n",
              "      <td>36000</td>\n",
              "      <td>Diesel</td>\n",
              "    </tr>\n",
              "    <tr>\n",
              "      <th>6</th>\n",
              "      <td>Ford Figo</td>\n",
              "      <td>Ford</td>\n",
              "      <td>2012</td>\n",
              "      <td>175000</td>\n",
              "      <td>41000</td>\n",
              "      <td>Diesel</td>\n",
              "    </tr>\n",
              "    <tr>\n",
              "      <th>...</th>\n",
              "      <td>...</td>\n",
              "      <td>...</td>\n",
              "      <td>...</td>\n",
              "      <td>...</td>\n",
              "      <td>...</td>\n",
              "      <td>...</td>\n",
              "    </tr>\n",
              "    <tr>\n",
              "      <th>883</th>\n",
              "      <td>Maruti Suzuki Ritz</td>\n",
              "      <td>Maruti</td>\n",
              "      <td>2011</td>\n",
              "      <td>270000</td>\n",
              "      <td>50000</td>\n",
              "      <td>Petrol</td>\n",
              "    </tr>\n",
              "    <tr>\n",
              "      <th>885</th>\n",
              "      <td>Tata Indica V2</td>\n",
              "      <td>Tata</td>\n",
              "      <td>2009</td>\n",
              "      <td>110000</td>\n",
              "      <td>30000</td>\n",
              "      <td>Diesel</td>\n",
              "    </tr>\n",
              "    <tr>\n",
              "      <th>886</th>\n",
              "      <td>Toyota Corolla Altis</td>\n",
              "      <td>Toyota</td>\n",
              "      <td>2009</td>\n",
              "      <td>300000</td>\n",
              "      <td>132000</td>\n",
              "      <td>Petrol</td>\n",
              "    </tr>\n",
              "    <tr>\n",
              "      <th>888</th>\n",
              "      <td>Tata Zest XM</td>\n",
              "      <td>Tata</td>\n",
              "      <td>2018</td>\n",
              "      <td>260000</td>\n",
              "      <td>27000</td>\n",
              "      <td>Diesel</td>\n",
              "    </tr>\n",
              "    <tr>\n",
              "      <th>889</th>\n",
              "      <td>Mahindra Quanto C8</td>\n",
              "      <td>Mahindra</td>\n",
              "      <td>2013</td>\n",
              "      <td>390000</td>\n",
              "      <td>40000</td>\n",
              "      <td>Diesel</td>\n",
              "    </tr>\n",
              "  </tbody>\n",
              "</table>\n",
              "<p>816 rows × 6 columns</p>\n",
              "</div>"
            ],
            "text/plain": [
              "                       name   company  year   Price  kms_driven fuel_type\n",
              "0       Hyundai Santro Xing   Hyundai  2007   80000       45000    Petrol\n",
              "1       Mahindra Jeep CL550  Mahindra  2006  425000          40    Diesel\n",
              "3         Hyundai Grand i10   Hyundai  2014  325000       28000    Petrol\n",
              "4    Ford EcoSport Titanium      Ford  2014  575000       36000    Diesel\n",
              "6                 Ford Figo      Ford  2012  175000       41000    Diesel\n",
              "..                      ...       ...   ...     ...         ...       ...\n",
              "883      Maruti Suzuki Ritz    Maruti  2011  270000       50000    Petrol\n",
              "885          Tata Indica V2      Tata  2009  110000       30000    Diesel\n",
              "886    Toyota Corolla Altis    Toyota  2009  300000      132000    Petrol\n",
              "888            Tata Zest XM      Tata  2018  260000       27000    Diesel\n",
              "889      Mahindra Quanto C8  Mahindra  2013  390000       40000    Diesel\n",
              "\n",
              "[816 rows x 6 columns]"
            ]
          },
          "metadata": {
            "tags": []
          },
          "execution_count": 142
        }
      ]
    },
    {
      "cell_type": "code",
      "metadata": {
        "id": "6O4_3h9X_oof"
      },
      "source": [
        "car=car.reset_index(drop=True)"
      ],
      "execution_count": 143,
      "outputs": []
    },
    {
      "cell_type": "code",
      "metadata": {
        "colab": {
          "base_uri": "https://localhost:8080/"
        },
        "id": "QACJxUoc_5JM",
        "outputId": "c19f07f8-c4f7-495c-d2b2-ff8bdfb25b6d"
      },
      "source": [
        "#now data is clean we can check\n",
        "car.info()"
      ],
      "execution_count": 144,
      "outputs": [
        {
          "output_type": "stream",
          "text": [
            "<class 'pandas.core.frame.DataFrame'>\n",
            "RangeIndex: 816 entries, 0 to 815\n",
            "Data columns (total 6 columns):\n",
            " #   Column      Non-Null Count  Dtype \n",
            "---  ------      --------------  ----- \n",
            " 0   name        816 non-null    object\n",
            " 1   company     816 non-null    object\n",
            " 2   year        816 non-null    int64 \n",
            " 3   Price       816 non-null    int64 \n",
            " 4   kms_driven  816 non-null    int64 \n",
            " 5   fuel_type   816 non-null    object\n",
            "dtypes: int64(3), object(3)\n",
            "memory usage: 38.4+ KB\n"
          ],
          "name": "stdout"
        }
      ]
    },
    {
      "cell_type": "code",
      "metadata": {
        "colab": {
          "base_uri": "https://localhost:8080/",
          "height": 297
        },
        "id": "fJJqLKBsAKc2",
        "outputId": "110aeff7-2f23-45b6-be28-42e652215077"
      },
      "source": [
        "#we will remove outlier\n",
        "car.describe()"
      ],
      "execution_count": 145,
      "outputs": [
        {
          "output_type": "execute_result",
          "data": {
            "text/html": [
              "<div>\n",
              "<style scoped>\n",
              "    .dataframe tbody tr th:only-of-type {\n",
              "        vertical-align: middle;\n",
              "    }\n",
              "\n",
              "    .dataframe tbody tr th {\n",
              "        vertical-align: top;\n",
              "    }\n",
              "\n",
              "    .dataframe thead th {\n",
              "        text-align: right;\n",
              "    }\n",
              "</style>\n",
              "<table border=\"1\" class=\"dataframe\">\n",
              "  <thead>\n",
              "    <tr style=\"text-align: right;\">\n",
              "      <th></th>\n",
              "      <th>year</th>\n",
              "      <th>Price</th>\n",
              "      <th>kms_driven</th>\n",
              "    </tr>\n",
              "  </thead>\n",
              "  <tbody>\n",
              "    <tr>\n",
              "      <th>count</th>\n",
              "      <td>816.000000</td>\n",
              "      <td>8.160000e+02</td>\n",
              "      <td>816.000000</td>\n",
              "    </tr>\n",
              "    <tr>\n",
              "      <th>mean</th>\n",
              "      <td>2012.444853</td>\n",
              "      <td>4.117176e+05</td>\n",
              "      <td>46275.531863</td>\n",
              "    </tr>\n",
              "    <tr>\n",
              "      <th>std</th>\n",
              "      <td>4.002992</td>\n",
              "      <td>4.751844e+05</td>\n",
              "      <td>34297.428044</td>\n",
              "    </tr>\n",
              "    <tr>\n",
              "      <th>min</th>\n",
              "      <td>1995.000000</td>\n",
              "      <td>3.000000e+04</td>\n",
              "      <td>0.000000</td>\n",
              "    </tr>\n",
              "    <tr>\n",
              "      <th>25%</th>\n",
              "      <td>2010.000000</td>\n",
              "      <td>1.750000e+05</td>\n",
              "      <td>27000.000000</td>\n",
              "    </tr>\n",
              "    <tr>\n",
              "      <th>50%</th>\n",
              "      <td>2013.000000</td>\n",
              "      <td>2.999990e+05</td>\n",
              "      <td>41000.000000</td>\n",
              "    </tr>\n",
              "    <tr>\n",
              "      <th>75%</th>\n",
              "      <td>2015.000000</td>\n",
              "      <td>4.912500e+05</td>\n",
              "      <td>56818.500000</td>\n",
              "    </tr>\n",
              "    <tr>\n",
              "      <th>max</th>\n",
              "      <td>2019.000000</td>\n",
              "      <td>8.500003e+06</td>\n",
              "      <td>400000.000000</td>\n",
              "    </tr>\n",
              "  </tbody>\n",
              "</table>\n",
              "</div>"
            ],
            "text/plain": [
              "              year         Price     kms_driven\n",
              "count   816.000000  8.160000e+02     816.000000\n",
              "mean   2012.444853  4.117176e+05   46275.531863\n",
              "std       4.002992  4.751844e+05   34297.428044\n",
              "min    1995.000000  3.000000e+04       0.000000\n",
              "25%    2010.000000  1.750000e+05   27000.000000\n",
              "50%    2013.000000  2.999990e+05   41000.000000\n",
              "75%    2015.000000  4.912500e+05   56818.500000\n",
              "max    2019.000000  8.500003e+06  400000.000000"
            ]
          },
          "metadata": {
            "tags": []
          },
          "execution_count": 145
        }
      ]
    },
    {
      "cell_type": "code",
      "metadata": {
        "colab": {
          "base_uri": "https://localhost:8080/",
          "height": 80
        },
        "id": "nYJvSampAtiK",
        "outputId": "c6390881-d86a-41ad-a534-857a650098b0"
      },
      "source": [
        "car[car[\"Price\"]>6e6]"
      ],
      "execution_count": 146,
      "outputs": [
        {
          "output_type": "execute_result",
          "data": {
            "text/html": [
              "<div>\n",
              "<style scoped>\n",
              "    .dataframe tbody tr th:only-of-type {\n",
              "        vertical-align: middle;\n",
              "    }\n",
              "\n",
              "    .dataframe tbody tr th {\n",
              "        vertical-align: top;\n",
              "    }\n",
              "\n",
              "    .dataframe thead th {\n",
              "        text-align: right;\n",
              "    }\n",
              "</style>\n",
              "<table border=\"1\" class=\"dataframe\">\n",
              "  <thead>\n",
              "    <tr style=\"text-align: right;\">\n",
              "      <th></th>\n",
              "      <th>name</th>\n",
              "      <th>company</th>\n",
              "      <th>year</th>\n",
              "      <th>Price</th>\n",
              "      <th>kms_driven</th>\n",
              "      <th>fuel_type</th>\n",
              "    </tr>\n",
              "  </thead>\n",
              "  <tbody>\n",
              "    <tr>\n",
              "      <th>534</th>\n",
              "      <td>Mahindra XUV500 W6</td>\n",
              "      <td>Mahindra</td>\n",
              "      <td>2014</td>\n",
              "      <td>8500003</td>\n",
              "      <td>45000</td>\n",
              "      <td>Diesel</td>\n",
              "    </tr>\n",
              "  </tbody>\n",
              "</table>\n",
              "</div>"
            ],
            "text/plain": [
              "                   name   company  year    Price  kms_driven fuel_type\n",
              "534  Mahindra XUV500 W6  Mahindra  2014  8500003       45000    Diesel"
            ]
          },
          "metadata": {
            "tags": []
          },
          "execution_count": 146
        }
      ]
    },
    {
      "cell_type": "code",
      "metadata": {
        "id": "9giwhP9KA37Z"
      },
      "source": [
        "car=car[car[\"Price\"]<6e6].reset_index(drop=True)\n"
      ],
      "execution_count": 147,
      "outputs": []
    },
    {
      "cell_type": "code",
      "metadata": {
        "colab": {
          "base_uri": "https://localhost:8080/",
          "height": 419
        },
        "id": "9CzG1D5pBPco",
        "outputId": "87ebd018-ee6a-4404-a8fb-91ed99fe45bb"
      },
      "source": [
        "car"
      ],
      "execution_count": 148,
      "outputs": [
        {
          "output_type": "execute_result",
          "data": {
            "text/html": [
              "<div>\n",
              "<style scoped>\n",
              "    .dataframe tbody tr th:only-of-type {\n",
              "        vertical-align: middle;\n",
              "    }\n",
              "\n",
              "    .dataframe tbody tr th {\n",
              "        vertical-align: top;\n",
              "    }\n",
              "\n",
              "    .dataframe thead th {\n",
              "        text-align: right;\n",
              "    }\n",
              "</style>\n",
              "<table border=\"1\" class=\"dataframe\">\n",
              "  <thead>\n",
              "    <tr style=\"text-align: right;\">\n",
              "      <th></th>\n",
              "      <th>name</th>\n",
              "      <th>company</th>\n",
              "      <th>year</th>\n",
              "      <th>Price</th>\n",
              "      <th>kms_driven</th>\n",
              "      <th>fuel_type</th>\n",
              "    </tr>\n",
              "  </thead>\n",
              "  <tbody>\n",
              "    <tr>\n",
              "      <th>0</th>\n",
              "      <td>Hyundai Santro Xing</td>\n",
              "      <td>Hyundai</td>\n",
              "      <td>2007</td>\n",
              "      <td>80000</td>\n",
              "      <td>45000</td>\n",
              "      <td>Petrol</td>\n",
              "    </tr>\n",
              "    <tr>\n",
              "      <th>1</th>\n",
              "      <td>Mahindra Jeep CL550</td>\n",
              "      <td>Mahindra</td>\n",
              "      <td>2006</td>\n",
              "      <td>425000</td>\n",
              "      <td>40</td>\n",
              "      <td>Diesel</td>\n",
              "    </tr>\n",
              "    <tr>\n",
              "      <th>2</th>\n",
              "      <td>Hyundai Grand i10</td>\n",
              "      <td>Hyundai</td>\n",
              "      <td>2014</td>\n",
              "      <td>325000</td>\n",
              "      <td>28000</td>\n",
              "      <td>Petrol</td>\n",
              "    </tr>\n",
              "    <tr>\n",
              "      <th>3</th>\n",
              "      <td>Ford EcoSport Titanium</td>\n",
              "      <td>Ford</td>\n",
              "      <td>2014</td>\n",
              "      <td>575000</td>\n",
              "      <td>36000</td>\n",
              "      <td>Diesel</td>\n",
              "    </tr>\n",
              "    <tr>\n",
              "      <th>4</th>\n",
              "      <td>Ford Figo</td>\n",
              "      <td>Ford</td>\n",
              "      <td>2012</td>\n",
              "      <td>175000</td>\n",
              "      <td>41000</td>\n",
              "      <td>Diesel</td>\n",
              "    </tr>\n",
              "    <tr>\n",
              "      <th>...</th>\n",
              "      <td>...</td>\n",
              "      <td>...</td>\n",
              "      <td>...</td>\n",
              "      <td>...</td>\n",
              "      <td>...</td>\n",
              "      <td>...</td>\n",
              "    </tr>\n",
              "    <tr>\n",
              "      <th>810</th>\n",
              "      <td>Maruti Suzuki Ritz</td>\n",
              "      <td>Maruti</td>\n",
              "      <td>2011</td>\n",
              "      <td>270000</td>\n",
              "      <td>50000</td>\n",
              "      <td>Petrol</td>\n",
              "    </tr>\n",
              "    <tr>\n",
              "      <th>811</th>\n",
              "      <td>Tata Indica V2</td>\n",
              "      <td>Tata</td>\n",
              "      <td>2009</td>\n",
              "      <td>110000</td>\n",
              "      <td>30000</td>\n",
              "      <td>Diesel</td>\n",
              "    </tr>\n",
              "    <tr>\n",
              "      <th>812</th>\n",
              "      <td>Toyota Corolla Altis</td>\n",
              "      <td>Toyota</td>\n",
              "      <td>2009</td>\n",
              "      <td>300000</td>\n",
              "      <td>132000</td>\n",
              "      <td>Petrol</td>\n",
              "    </tr>\n",
              "    <tr>\n",
              "      <th>813</th>\n",
              "      <td>Tata Zest XM</td>\n",
              "      <td>Tata</td>\n",
              "      <td>2018</td>\n",
              "      <td>260000</td>\n",
              "      <td>27000</td>\n",
              "      <td>Diesel</td>\n",
              "    </tr>\n",
              "    <tr>\n",
              "      <th>814</th>\n",
              "      <td>Mahindra Quanto C8</td>\n",
              "      <td>Mahindra</td>\n",
              "      <td>2013</td>\n",
              "      <td>390000</td>\n",
              "      <td>40000</td>\n",
              "      <td>Diesel</td>\n",
              "    </tr>\n",
              "  </tbody>\n",
              "</table>\n",
              "<p>815 rows × 6 columns</p>\n",
              "</div>"
            ],
            "text/plain": [
              "                       name   company  year   Price  kms_driven fuel_type\n",
              "0       Hyundai Santro Xing   Hyundai  2007   80000       45000    Petrol\n",
              "1       Mahindra Jeep CL550  Mahindra  2006  425000          40    Diesel\n",
              "2         Hyundai Grand i10   Hyundai  2014  325000       28000    Petrol\n",
              "3    Ford EcoSport Titanium      Ford  2014  575000       36000    Diesel\n",
              "4                 Ford Figo      Ford  2012  175000       41000    Diesel\n",
              "..                      ...       ...   ...     ...         ...       ...\n",
              "810      Maruti Suzuki Ritz    Maruti  2011  270000       50000    Petrol\n",
              "811          Tata Indica V2      Tata  2009  110000       30000    Diesel\n",
              "812    Toyota Corolla Altis    Toyota  2009  300000      132000    Petrol\n",
              "813            Tata Zest XM      Tata  2018  260000       27000    Diesel\n",
              "814      Mahindra Quanto C8  Mahindra  2013  390000       40000    Diesel\n",
              "\n",
              "[815 rows x 6 columns]"
            ]
          },
          "metadata": {
            "tags": []
          },
          "execution_count": 148
        }
      ]
    },
    {
      "cell_type": "code",
      "metadata": {
        "id": "1LOu2v0XBQHa"
      },
      "source": [
        "car.to_csv(\"cleandata\")"
      ],
      "execution_count": 123,
      "outputs": []
    },
    {
      "cell_type": "code",
      "metadata": {
        "id": "jW8MvsnKBdi_"
      },
      "source": [
        "x=car.drop(columns=\"Price\")\n",
        "y=car[\"Price\"]"
      ],
      "execution_count": 149,
      "outputs": []
    },
    {
      "cell_type": "code",
      "metadata": {
        "id": "byUQqN1GB8bH"
      },
      "source": [
        "from sklearn.model_selection import train_test_split\n",
        "x_train,x_test,y_train,y_test=train_test_split(x,y,test_size=0.20)  \n"
      ],
      "execution_count": 165,
      "outputs": []
    },
    {
      "cell_type": "code",
      "metadata": {
        "id": "Geu2oAA7PkGQ"
      },
      "source": [
        "from sklearn.linear_model import LinearRegression\n",
        "from sklearn.metrics import r2_score\n",
        "from sklearn.preprocessing import OneHotEncoder\n",
        "from sklearn.compose import make_column_transformer\n",
        "from sklearn.pipeline import make_pipeline"
      ],
      "execution_count": 166,
      "outputs": []
    },
    {
      "cell_type": "code",
      "metadata": {
        "id": "yFW4dl4KQGVZ"
      },
      "source": [
        "ohe=OneHotEncoder()   "
      ],
      "execution_count": 167,
      "outputs": []
    },
    {
      "cell_type": "code",
      "metadata": {
        "colab": {
          "base_uri": "https://localhost:8080/"
        },
        "id": "oatBTPIUQLEs",
        "outputId": "9b7de861-a2b8-41a0-fa9c-d4e847bac31e"
      },
      "source": [
        "ohe.fit(x[[\"name\",\"company\",\"fuel_type\"]])"
      ],
      "execution_count": 168,
      "outputs": [
        {
          "output_type": "execute_result",
          "data": {
            "text/plain": [
              "OneHotEncoder(categories='auto', drop=None, dtype=<class 'numpy.float64'>,\n",
              "              handle_unknown='error', sparse=True)"
            ]
          },
          "metadata": {
            "tags": []
          },
          "execution_count": 168
        }
      ]
    },
    {
      "cell_type": "code",
      "metadata": {
        "id": "e7Z5jzqfQmP3"
      },
      "source": [
        "colum_trans = make_column_transformer((OneHotEncoder(categories=ohe.categories_),[\"name\",\"company\",\"fuel_type\"]),remainder=\"passthrough\")"
      ],
      "execution_count": 169,
      "outputs": []
    },
    {
      "cell_type": "code",
      "metadata": {
        "id": "MGEiFEJMSALU"
      },
      "source": [
        "lr=LinearRegression()\n"
      ],
      "execution_count": 170,
      "outputs": []
    },
    {
      "cell_type": "code",
      "metadata": {
        "id": "qxQ5cakDSKAo"
      },
      "source": [
        "pipe=make_pipeline(colum_trans,lr)"
      ],
      "execution_count": 171,
      "outputs": []
    },
    {
      "cell_type": "code",
      "metadata": {
        "colab": {
          "base_uri": "https://localhost:8080/"
        },
        "id": "F-mCkUA_TYJd",
        "outputId": "6bd3c0fc-fc00-490a-a1a2-78f29319eab1"
      },
      "source": [
        "pipe.fit(x_train,y_train)"
      ],
      "execution_count": 172,
      "outputs": [
        {
          "output_type": "execute_result",
          "data": {
            "text/plain": [
              "Pipeline(memory=None,\n",
              "         steps=[('columntransformer',\n",
              "                 ColumnTransformer(n_jobs=None, remainder='passthrough',\n",
              "                                   sparse_threshold=0.3,\n",
              "                                   transformer_weights=None,\n",
              "                                   transformers=[('onehotencoder',\n",
              "                                                  OneHotEncoder(categories=[array(['Audi A3 Cabriolet', 'Audi A4 1.8', 'Audi A4 2.0', 'Audi A6 2.0',\n",
              "       'Audi A8', 'Audi Q3 2.0', 'Audi Q5 2.0', 'Audi Q7', 'BMW 3 Series',\n",
              "       'BMW 5 Series', 'BMW 7 Series', 'B...\n",
              "       'Renault', 'Skoda', 'Tata', 'Toyota', 'Volkswagen', 'Volvo'],\n",
              "      dtype=object),\n",
              "                                                                            array(['Diesel', 'LPG', 'Petrol'], dtype=object)],\n",
              "                                                                drop=None,\n",
              "                                                                dtype=<class 'numpy.float64'>,\n",
              "                                                                handle_unknown='error',\n",
              "                                                                sparse=True),\n",
              "                                                  ['name', 'company',\n",
              "                                                   'fuel_type'])],\n",
              "                                   verbose=False)),\n",
              "                ('linearregression',\n",
              "                 LinearRegression(copy_X=True, fit_intercept=True, n_jobs=None,\n",
              "                                  normalize=False))],\n",
              "         verbose=False)"
            ]
          },
          "metadata": {
            "tags": []
          },
          "execution_count": 172
        }
      ]
    },
    {
      "cell_type": "code",
      "metadata": {
        "id": "OkVutf3CUqcW"
      },
      "source": [
        "y_pred=pipe.predict(x_test)"
      ],
      "execution_count": 173,
      "outputs": []
    },
    {
      "cell_type": "code",
      "metadata": {
        "colab": {
          "base_uri": "https://localhost:8080/"
        },
        "id": "3s1IGvz6U42b",
        "outputId": "5deac42a-3069-42c6-c951-9db33e26f01e"
      },
      "source": [
        "r2_score(y_test,y_pred)"
      ],
      "execution_count": 175,
      "outputs": [
        {
          "output_type": "execute_result",
          "data": {
            "text/plain": [
              "0.8556524375118156"
            ]
          },
          "metadata": {
            "tags": []
          },
          "execution_count": 175
        }
      ]
    },
    {
      "cell_type": "code",
      "metadata": {
        "id": "qBDA67gpTiJR"
      },
      "source": [
        "import numpy as np\n",
        "scores = []\n",
        "for i in range(1000):\n",
        "  x_train,x_test,y_train,y_test=train_test_split(x,y,test_size=0.20,random_state=i)  \n",
        "  lr=LinearRegression()\n",
        "  pipe=make_pipeline(colum_trans,lr)\n",
        "  pipe.fit(x_train,y_train)\n",
        "  y_pred=pipe.predict(x_test)\n",
        "  scores.append(r2_score(y_test,y_pred))\n"
      ],
      "execution_count": 177,
      "outputs": []
    },
    {
      "cell_type": "code",
      "metadata": {
        "colab": {
          "base_uri": "https://localhost:8080/"
        },
        "id": "GRzHLN6LWfqo",
        "outputId": "ab4c448d-365a-4b8e-8d1b-6bffd8005f91"
      },
      "source": [
        "np.argmax(scores)"
      ],
      "execution_count": 178,
      "outputs": [
        {
          "output_type": "execute_result",
          "data": {
            "text/plain": [
              "661"
            ]
          },
          "metadata": {
            "tags": []
          },
          "execution_count": 178
        }
      ]
    },
    {
      "cell_type": "code",
      "metadata": {
        "colab": {
          "base_uri": "https://localhost:8080/"
        },
        "id": "ozBZlN5wWzNO",
        "outputId": "3a4711a2-f4e4-41aa-ee32-c95edbc289fe"
      },
      "source": [
        "scores[np.argmax(scores)]"
      ],
      "execution_count": 179,
      "outputs": [
        {
          "output_type": "execute_result",
          "data": {
            "text/plain": [
              "0.8897843787982733"
            ]
          },
          "metadata": {
            "tags": []
          },
          "execution_count": 179
        }
      ]
    },
    {
      "cell_type": "code",
      "metadata": {
        "colab": {
          "base_uri": "https://localhost:8080/"
        },
        "id": "RQX3zadsW-cU",
        "outputId": "d123fbf7-3586-4c3e-ad1d-e9ef02ab8373"
      },
      "source": [
        "x_train,x_test,y_train,y_test=train_test_split(x,y,test_size=0.20,random_state=np.argmax(scores))  \n",
        "lr=LinearRegression()\n",
        "pipe=make_pipeline(colum_trans,lr)\n",
        "pipe.fit(x_train,y_train)\n",
        "y_pred=pipe.predict(x_test)\n",
        "r2_score(y_test,y_pred)"
      ],
      "execution_count": 180,
      "outputs": [
        {
          "output_type": "execute_result",
          "data": {
            "text/plain": [
              "0.8897843787982733"
            ]
          },
          "metadata": {
            "tags": []
          },
          "execution_count": 180
        }
      ]
    },
    {
      "cell_type": "code",
      "metadata": {
        "id": "9NE-01vjXsHw"
      },
      "source": [
        "import pickle\n",
        "pickle.dump(pipe,open(\"LinearRegression\",\"wb\"))"
      ],
      "execution_count": 181,
      "outputs": []
    },
    {
      "cell_type": "code",
      "metadata": {
        "colab": {
          "base_uri": "https://localhost:8080/"
        },
        "id": "HSUErwLWYyhq",
        "outputId": "3943d32d-9dde-4dc2-9efc-7d6df564a128"
      },
      "source": [
        "#passing random value\n",
        "pipe.predict(pd.DataFrame([[\"Maruti Suzuki Swift\",\"Maruti\",2018,200,\"Petrol\"]],columns=[\"name\",\"company\",\"year\",\"kms_driven\",\"fuel_type\"]))"
      ],
      "execution_count": 183,
      "outputs": [
        {
          "output_type": "execute_result",
          "data": {
            "text/plain": [
              "array([382097.81139939])"
            ]
          },
          "metadata": {
            "tags": []
          },
          "execution_count": 183
        }
      ]
    },
    {
      "cell_type": "code",
      "metadata": {
        "colab": {
          "base_uri": "https://localhost:8080/",
          "height": 204
        },
        "id": "K2Xk6mg8ZKsU",
        "outputId": "780bfa8f-558d-416c-9b37-9f06d6e256e2"
      },
      "source": [
        ""
      ],
      "execution_count": 182,
      "outputs": [
        {
          "output_type": "execute_result",
          "data": {
            "text/html": [
              "<div>\n",
              "<style scoped>\n",
              "    .dataframe tbody tr th:only-of-type {\n",
              "        vertical-align: middle;\n",
              "    }\n",
              "\n",
              "    .dataframe tbody tr th {\n",
              "        vertical-align: top;\n",
              "    }\n",
              "\n",
              "    .dataframe thead th {\n",
              "        text-align: right;\n",
              "    }\n",
              "</style>\n",
              "<table border=\"1\" class=\"dataframe\">\n",
              "  <thead>\n",
              "    <tr style=\"text-align: right;\">\n",
              "      <th></th>\n",
              "      <th>name</th>\n",
              "      <th>company</th>\n",
              "      <th>year</th>\n",
              "      <th>Price</th>\n",
              "      <th>kms_driven</th>\n",
              "      <th>fuel_type</th>\n",
              "    </tr>\n",
              "  </thead>\n",
              "  <tbody>\n",
              "    <tr>\n",
              "      <th>0</th>\n",
              "      <td>Hyundai Santro Xing</td>\n",
              "      <td>Hyundai</td>\n",
              "      <td>2007</td>\n",
              "      <td>80000</td>\n",
              "      <td>45000</td>\n",
              "      <td>Petrol</td>\n",
              "    </tr>\n",
              "    <tr>\n",
              "      <th>1</th>\n",
              "      <td>Mahindra Jeep CL550</td>\n",
              "      <td>Mahindra</td>\n",
              "      <td>2006</td>\n",
              "      <td>425000</td>\n",
              "      <td>40</td>\n",
              "      <td>Diesel</td>\n",
              "    </tr>\n",
              "    <tr>\n",
              "      <th>2</th>\n",
              "      <td>Hyundai Grand i10</td>\n",
              "      <td>Hyundai</td>\n",
              "      <td>2014</td>\n",
              "      <td>325000</td>\n",
              "      <td>28000</td>\n",
              "      <td>Petrol</td>\n",
              "    </tr>\n",
              "    <tr>\n",
              "      <th>3</th>\n",
              "      <td>Ford EcoSport Titanium</td>\n",
              "      <td>Ford</td>\n",
              "      <td>2014</td>\n",
              "      <td>575000</td>\n",
              "      <td>36000</td>\n",
              "      <td>Diesel</td>\n",
              "    </tr>\n",
              "    <tr>\n",
              "      <th>4</th>\n",
              "      <td>Ford Figo</td>\n",
              "      <td>Ford</td>\n",
              "      <td>2012</td>\n",
              "      <td>175000</td>\n",
              "      <td>41000</td>\n",
              "      <td>Diesel</td>\n",
              "    </tr>\n",
              "  </tbody>\n",
              "</table>\n",
              "</div>"
            ],
            "text/plain": [
              "                     name   company  year   Price  kms_driven fuel_type\n",
              "0     Hyundai Santro Xing   Hyundai  2007   80000       45000    Petrol\n",
              "1     Mahindra Jeep CL550  Mahindra  2006  425000          40    Diesel\n",
              "2       Hyundai Grand i10   Hyundai  2014  325000       28000    Petrol\n",
              "3  Ford EcoSport Titanium      Ford  2014  575000       36000    Diesel\n",
              "4               Ford Figo      Ford  2012  175000       41000    Diesel"
            ]
          },
          "metadata": {
            "tags": []
          },
          "execution_count": 182
        }
      ]
    },
    {
      "cell_type": "code",
      "metadata": {
        "id": "4opcsgB8ZLvg"
      },
      "source": [
        ""
      ],
      "execution_count": null,
      "outputs": []
    }
  ]
}